{
 "cells": [
  {
   "cell_type": "code",
   "execution_count": null,
   "metadata": {},
   "outputs": [],
   "source": [
    "import pandas as pd\n",
    "import seaborn as sns\n",
    "import numpy as np\n",
    "import matplotlib.pyplot as plt\n",
    "import ipywidgets as wid\n",
    "import logging\n",
    "from sklearn.model_selection import train_test_split\n",
    "from sklearn.linear_model import Ridge\n",
    "from sklearn.linear_model import BayesianRidge\n",
    "from sklearn import metrics\n",
    "from IPython.display import display\n",
    "from ipywidgets import HBox, Box, VBox\n",
    "dataset = pd.read_csv(\"clean2.csv\")\n",
    "# create new data columns\n",
    "dataset['Gls90'] = (dataset['Gls'] / dataset['90s']) # Goals per 90 minutes\n",
    "dataset['GlsAst90'] = ((dataset['Gls'] + dataset['Ast']) / dataset['90s']) # Goals and assists per 90 minutes\n",
    "dataset['GlsAst'] = (dataset['Gls'] + dataset['Ast'])\n",
    "# log access\n",
    "logging.basicConfig(filename='log.txt', format='%(asctime)s %(message)s')\n",
    "logging.warning(' accessed.')"
   ]
  },
  {
   "cell_type": "code",
   "execution_count": null,
   "metadata": {},
   "outputs": [],
   "source": [
    "# dataset cleaning, remove weird characters from player string\n",
    "#dataset = dataset[dataset['Pos'] != 'DF'] # Remove Defenders\n",
    "#dataset = dataset[dataset['Pos'] != 'GK'] # Remove Goalkeepers\n",
    "#dataset = dataset.drop(dataset[(dataset.Min < 1000) & (dataset.Gls == 0)].index) # remove unhelpful values\n",
    "dataset['Player'] = dataset['Player'].apply (lambda row: row[:-9])\n",
    "dataset = dataset.fillna(0) # remove NAN"
   ]
  },
  {
   "cell_type": "code",
   "execution_count": null,
   "metadata": {},
   "outputs": [],
   "source": [
    "dataset = dataset.drop(['Age'], axis = 1)\n",
    "# dataset.corr()['GlsAst90']"
   ]
  },
  {
   "cell_type": "code",
   "execution_count": null,
   "metadata": {},
   "outputs": [],
   "source": [
    "x_train, x_test, y_train, y_test = train_test_split(dataset[['Min', 'Gls', 'Ast']], dataset.GlsAst90, test_size=0.2, random_state=1)\n",
    "# from sklearn.preprocessing import StandardScaler\n",
    "# sc = StandardScaler()\n",
    "# X_train = sc.fit_transform(x_train)\n",
    "# X_test = sc.transform(x_test)"
   ]
  },
  {
   "cell_type": "markdown",
   "metadata": {},
   "source": [
    "Player performances with respect to time played through a season.\n",
    "Min = Minutes\n",
    "GlsAst = Total of both goals and assists for a player\n",
    "Gls90 = The amount of goals a player scores per 90 minutes (One match)\n",
    "GlsAst90 = The amount of goals and assists a player contributes per 90 minutes\n",
    "90s = The total number of minutes played divided by 90, 34 would mean every minute of the 34 game season played"
   ]
  },
  {
   "cell_type": "code",
   "execution_count": null,
   "metadata": {},
   "outputs": [],
   "source": [
    "fig, axs = plt.subplots(ncols=4, figsize=(30,5))\n",
    "sns.scatterplot(data = dataset, x = \"Min\", y = \"GlsAst\", hue = 'xG', ax=axs[0])\n",
    "sns.scatterplot(data = dataset, x = 'Min', y = 'Gls90', hue = 'Gls', palette = 'magma', ax=axs[1])\n",
    "sns.scatterplot(data = dataset, x = 'Min', y = 'GlsAst90', hue = 'Gls', palette = 'magma', ax=axs[2])\n",
    "sns.scatterplot(data = dataset, x = 'Gls', y = '90s', ax=axs[3]);"
   ]
  },
  {
   "cell_type": "code",
   "execution_count": null,
   "metadata": {},
   "outputs": [],
   "source": [
    "model = BayesianRidge()\n",
    "\n",
    "model.fit(x_train, y_train);"
   ]
  },
  {
   "cell_type": "code",
   "execution_count": null,
   "metadata": {},
   "outputs": [],
   "source": [
    "# text = wid.Text()\n",
    "# display(text)\n",
    "\n",
    "# def handle_submit(sender):\n",
    "#     print(text.value)\n",
    "\n",
    "# text.on_submit(handle_submit)"
   ]
  },
  {
   "cell_type": "code",
   "execution_count": null,
   "metadata": {},
   "outputs": [],
   "source": [
    "button = wid.Button(description=\"Calculate\")\n",
    "minutesText = wid.BoundedIntText(value=0,min=0,max=3060,step=1,description='Minutes:')\n",
    "goalsText = wid.BoundedIntText(value=0,min=0,max=50,step=1,description='Goals:')\n",
    "assistsText = wid.BoundedIntText(value=0,min=0,max=50,step=1,description='Assists:')\n",
    "itemtext = [wid.HTML(value=\"Calculate expected goals + assists across an entire season of 3060 minutes, based on the amount of goals and assists achieved in the specified number of minutes.\")]\n",
    "items = [minutesText, goalsText, assistsText, button]\n",
    "df = pd.DataFrame(np.array([[0, 0, 0]]), columns=['Min', 'Gls', 'Ast'])\n",
    "answer = 0\n",
    "answerText = wid.Text(value = str(answer), description='Goals + Assists')"
   ]
  },
  {
   "cell_type": "code",
   "execution_count": null,
   "metadata": {},
   "outputs": [],
   "source": [
    "def on_button_clicked(b):\n",
    "    print(\"Button clicked.\")\n",
    "    df = pd.DataFrame(np.array([[minutesText.value, goalsText.value, assistsText.value]]), columns=['Min', 'Gls', 'Ast'])\n",
    "    answer = int(np.ceil(max(0, (model.predict(df) * 34))))\n",
    "    if answer < (int(goalsText.value) + int(assistsText.value)):\n",
    "        answer = (int(goalsText.value) + int(assistsText.value))\n",
    "    answerText.value = str(answer)\n",
    "\n",
    "button.on_click(on_button_clicked)\n",
    "\n",
    "topbox = HBox(children=itemtext)\n",
    "bottombox = HBox(children=items)\n",
    "box = VBox(children=[topbox, bottombox, answerText])\n",
    "box"
   ]
  },
  {
   "cell_type": "code",
   "execution_count": null,
   "metadata": {},
   "outputs": [],
   "source": [
    "# df = pd.DataFrame(np.array([[minutesText.value, goalsText.value, assistsText.value]]), columns=['Min', 'Gls', 'Ast'])\n",
    "# print(df)"
   ]
  },
  {
   "cell_type": "code",
   "execution_count": null,
   "metadata": {},
   "outputs": [],
   "source": [
    "# # enter Mins, Gls, Ast, output estimated Gls+ast over 3060 mins\n",
    "\n",
    "# df = pd.DataFrame(np.array([[2369, 7, 3]]), columns=['Min', 'Gls', 'Ast'])\n",
    "# print(model.predict(df))\n",
    "# answer = str(np.ceil(float((model.predict(df) * 34)))) \n",
    "\n",
    "# answerText = wid.Text(answer)\n",
    "# display(answerText)\n",
    "# # also add estimated point to a scatterplot?\n"
   ]
  },
  {
   "cell_type": "code",
   "execution_count": null,
   "metadata": {},
   "outputs": [],
   "source": [
    "# model.get_params()\n",
    "# #https://machinelearningmastery.com/how-to-tune-algorithm-parameters-with-scikit-learn/\n",
    "# #tweak parameters\n",
    "# from sklearn.model_selection import GridSearchCV\n",
    "# alphas = np.array([1,0.1,0.01,0.001,0.0001,0])\n",
    "# grid = GridSearchCV(estimator=model, param_grid=dict(alpha=alphas))\n",
    "# grid.fit(X_train, y_train)\n",
    "# print(grid)\n",
    "# # summarize the results of the grid search\n",
    "# print(grid.best_score_)\n",
    "# print(grid.best_estimator_.alpha)"
   ]
  },
  {
   "cell_type": "code",
   "execution_count": null,
   "metadata": {},
   "outputs": [],
   "source": [
    "predicted = model.predict(x_test)\n",
    "predicted[predicted < 0] = 0\n",
    "#predicted\n"
   ]
  },
  {
   "cell_type": "code",
   "execution_count": null,
   "metadata": {},
   "outputs": [],
   "source": [
    "sns.scatterplot(x = dataset['Min'], y = dataset['GlsAst']);\n",
    "sns.regplot(x = x_test['Min'], y = (predicted*34), color='g', scatter=False);\n"
   ]
  },
  {
   "cell_type": "markdown",
   "metadata": {},
   "source": [
    "Here are the scores for the Bayesian Ridge model, starting with the r2, and then the mean squared error."
   ]
  },
  {
   "cell_type": "code",
   "execution_count": null,
   "metadata": {},
   "outputs": [],
   "source": [
    "predict_test = model.predict(x_test)\n",
    "print(metrics.r2_score((y_test), predicted))\n",
    "print(metrics.mean_squared_error((y_test), predicted))\n",
    "# print(model.score(x_test, y_test))\n"
   ]
  }
 ],
 "metadata": {
  "interpreter": {
   "hash": "9ff92ab6558309b8692264b5c7efe5bb529101a121630a95ea7204a2c42ca4a9"
  },
  "kernelspec": {
   "display_name": "Python 3 (ipykernel)",
   "language": "python",
   "name": "python3"
  },
  "language_info": {
   "codemirror_mode": {
    "name": "ipython",
    "version": 3
   },
   "file_extension": ".py",
   "mimetype": "text/x-python",
   "name": "python",
   "nbconvert_exporter": "python",
   "pygments_lexer": "ipython3",
   "version": "3.9.7"
  }
 },
 "nbformat": 4,
 "nbformat_minor": 2
}
